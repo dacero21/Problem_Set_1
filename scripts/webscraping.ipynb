{
 "cells": [
  {
   "cell_type": "code",
   "execution_count": 1,
   "metadata": {},
   "outputs": [],
   "source": [
    "import selenium\n",
    "import selenium.webdriver\n",
    "from selenium.webdriver.common.by import By\n",
    "import pandas as pd\n",
    "import time\n",
    "import csv\n",
    "import os"
   ]
  },
  {
   "cell_type": "markdown",
   "metadata": {},
   "source": [
    "## Lectura de df principal"
   ]
  },
  {
   "cell_type": "code",
   "execution_count": 2,
   "metadata": {},
   "outputs": [
    {
     "name": "stdout",
     "output_type": "stream",
     "text": [
      "previo\n",
      "posterior\n",
      "previo\n",
      "posterior\n",
      "previo\n",
      "posterior\n",
      "previo\n",
      "posterior\n",
      "previo\n",
      "posterior\n"
     ]
    }
   ],
   "source": [
    "lista_dfs = []\n",
    "\n",
    "for i in range(1,11):\n",
    "    driver = selenium.webdriver.Chrome()\n",
    "    driver.get('https://ignaciomsarmiento.github.io/GEIH2018_sample/page'+str(i)+'.html')\n",
    "    tabla = driver.find_elements(By.XPATH,'/html/body/div/div/div[2]/div/table')\n",
    "    while len(tabla) == 0:\n",
    "        time.sleep(5)\n",
    "        tabla = driver.find_elements(By.XPATH,'/html/body/div/div/div[2]/div/table')\n",
    "    tabla_en_texto = tabla[0].text\n",
    "    tabla_previa = tabla_en_texto.splitlines()\n",
    "    tabla_previa[0] = 'id '+tabla_previa[0]\n",
    "    df = pd.DataFrame([x.split() for x in tabla_previa[1:]])\n",
    "    lista_dfs.append(df)\n",
    "\n",
    "df_definitivo = pd.concat(lista_dfs)\n",
    "df_definitivo.columns = tabla_previa[0].split()\n",
    "df_definitivo.to_csv('../stores/df_definitivo.csv',encoding='utf-8-sig')"
   ]
  },
  {
   "cell_type": "markdown",
   "metadata": {},
   "source": [
    "## Diccionario y etiquetas"
   ]
  },
  {
   "cell_type": "code",
   "execution_count": 3,
   "metadata": {},
   "outputs": [],
   "source": [
    "driver = selenium.webdriver.Chrome()\n",
    "driver.get('https://ignaciomsarmiento.github.io/GEIH2018_sample/dictionary.html')\n",
    "tabla = driver.find_elements(By.XPATH,'/html/body/div/div/div[2]/table')\n",
    "while len(tabla) == 0:\n",
    "    print('previo')\n",
    "    time.sleep(5)\n",
    "    print('posterior')\n",
    "    tabla = driver.find_elements(By.XPATH,'/html/body/div/div/div[2]/table')\n",
    "tabla_en_texto = tabla[0].text\n",
    "tabla_previa = tabla_en_texto.splitlines()\n",
    "df_dictionary = pd.DataFrame([x.split(' ',1) for x in tabla_previa[1:]])\n",
    "df_dictionary.columns = tabla_previa[0].split()\n",
    "df_dictionary.to_csv('../stores/df_dictionary.csv',encoding='utf-8-sig')"
   ]
  },
  {
   "cell_type": "code",
   "execution_count": 4,
   "metadata": {},
   "outputs": [],
   "source": [
    "driver = selenium.webdriver.Chrome()\n",
    "driver.get('https://ignaciomsarmiento.github.io/GEIH2018_sample/labels.html')\n",
    "tabla = driver.find_elements(By.XPATH,'/html/body/div/div/div[2]/table')\n",
    "while len(tabla) == 0:\n",
    "    print('previo')\n",
    "    time.sleep(5)\n",
    "    print('posterior')\n",
    "    tabla = driver.find_elements(By.XPATH,'/html/body/div/div/div[2]/table')\n",
    "tabla_en_texto = tabla[0].text.replace(';','').replace('\"','')\n",
    "tabla_previa = tabla_en_texto.splitlines()\n",
    "df_labels = pd.DataFrame([x.split(' ',2) for x in tabla_previa[1:]])\n",
    "df_labels.columns = tabla_previa[0].split()\n",
    "df_labels.to_csv('../stores/df_labels.csv',encoding='utf-8-sig')"
   ]
  }
 ],
 "metadata": {
  "kernelspec": {
   "display_name": "Python 3",
   "language": "python",
   "name": "python3"
  },
  "language_info": {
   "codemirror_mode": {
    "name": "ipython",
    "version": 3
   },
   "file_extension": ".py",
   "mimetype": "text/x-python",
   "name": "python",
   "nbconvert_exporter": "python",
   "pygments_lexer": "ipython3",
   "version": "3.12.4"
  }
 },
 "nbformat": 4,
 "nbformat_minor": 2
}
